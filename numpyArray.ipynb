{
 "cells": [
  {
   "cell_type": "markdown",
   "id": "6583e92a",
   "metadata": {},
   "source": [
    "# Introduction To Numpy"
   ]
  },
  {
   "cell_type": "code",
   "execution_count": 1,
   "id": "61e7c2b9",
   "metadata": {},
   "outputs": [],
   "source": [
    "import numpy as np"
   ]
  },
  {
   "cell_type": "markdown",
   "id": "f60bca57",
   "metadata": {},
   "source": [
    "### Creating a numpy array"
   ]
  },
  {
   "cell_type": "code",
   "execution_count": 2,
   "id": "0e37d71e",
   "metadata": {},
   "outputs": [],
   "source": [
    "lst=[1,2,3,4,5,6]   #Creating a python list"
   ]
  },
  {
   "cell_type": "code",
   "execution_count": 3,
   "id": "49add447",
   "metadata": {},
   "outputs": [],
   "source": [
    "arr=np.array(lst,dtype=int)"
   ]
  },
  {
   "cell_type": "code",
   "execution_count": 4,
   "id": "b8d726ad",
   "metadata": {},
   "outputs": [
    {
     "name": "stdout",
     "output_type": "stream",
     "text": [
      "[1 2 3 4 5 6]\n",
      "6\n",
      "1\n",
      "(6,)\n"
     ]
    }
   ],
   "source": [
    "print(arr)        #printing the numpy array\n",
    "print(len(arr))   #printing length\n",
    "print(arr.ndim)   #printing the no:of dimensions\n",
    "print(arr.shape)  #printing the shape of array"
   ]
  },
  {
   "cell_type": "code",
   "execution_count": 7,
   "id": "0717f36e",
   "metadata": {},
   "outputs": [
    {
     "name": "stdout",
     "output_type": "stream",
     "text": [
      "[[1 2]\n",
      " [3 4]\n",
      " [5 6]]\n",
      "2\n",
      "(3, 2)\n"
     ]
    }
   ],
   "source": [
    "arr2=arr.reshape(3,2)   #reshaping array to 3 rows and 2 columns\n",
    "print(arr2)\n",
    "print(arr2.ndim)\n",
    "print(arr2.shape)"
   ]
  },
  {
   "cell_type": "code",
   "execution_count": 8,
   "id": "bf1cd17e",
   "metadata": {},
   "outputs": [
    {
     "name": "stdout",
     "output_type": "stream",
     "text": [
      "[[1 2 3]\n",
      " [4 5 6]]\n",
      "2\n",
      "(2, 3)\n"
     ]
    }
   ],
   "source": [
    "arr3=arr.reshape(2,-1)  #-1 says that the intepreter to calculate the other dimension\n",
    "print(arr3)\n",
    "print(arr3.ndim)\n",
    "print(arr3.shape)"
   ]
  },
  {
   "cell_type": "code",
   "execution_count": 10,
   "id": "9c0d6aed",
   "metadata": {},
   "outputs": [
    {
     "name": "stdout",
     "output_type": "stream",
     "text": [
      "[[ 1  2  3  4  5]\n",
      " [ 6  7  8  9 10]\n",
      " [11 12 13 14 15]]\n",
      "2\n",
      "(3, 5)\n"
     ]
    }
   ],
   "source": [
    "list1=[1,2,3,4,5]\n",
    "list2=[6,7,8,9,10]\n",
    "list3=[11,12,13,14,15]\n",
    "\n",
    "array=np.array([list1,list2,list3], dtype=int)  #creating array from 2 dimension list\n",
    "\n",
    "print(array)\n",
    "print(array.ndim)\n",
    "print(array.shape)"
   ]
  },
  {
   "cell_type": "code",
   "execution_count": 12,
   "id": "40e00884",
   "metadata": {},
   "outputs": [
    {
     "name": "stdout",
     "output_type": "stream",
     "text": [
      "[[ 1  2  3  4  5  6  7  8  9 10 11 12 13 14 15]]\n"
     ]
    }
   ],
   "source": [
    "#other way to reshape array\n",
    "array.shape=(1,15)\n",
    "print(array)"
   ]
  },
  {
   "cell_type": "code",
   "execution_count": 14,
   "id": "ad09dfbb",
   "metadata": {},
   "outputs": [
    {
     "name": "stdout",
     "output_type": "stream",
     "text": [
      "[ 0  5 10 15 20]\n"
     ]
    }
   ],
   "source": [
    "#create evenly spaced array\n",
    "a=np.arange(0,25,5)  #(start,stop,step)\n",
    "print(a)"
   ]
  },
  {
   "cell_type": "markdown",
   "id": "81bbf8fa",
   "metadata": {},
   "source": [
    "### Arithmetic operation"
   ]
  },
  {
   "cell_type": "code",
   "execution_count": 32,
   "id": "7839e312",
   "metadata": {},
   "outputs": [],
   "source": [
    "x=np.array([[1,2],[4,5]],dtype=np.float64)   #creating an array of type float of size 64 bits\n",
    "y=np.array([[5,3],[2,9]],dtype=np.float64)"
   ]
  },
  {
   "cell_type": "code",
   "execution_count": 33,
   "id": "4da9a971",
   "metadata": {},
   "outputs": [
    {
     "name": "stdout",
     "output_type": "stream",
     "text": [
      "[[ 6.  5.]\n",
      " [ 6. 14.]]\n",
      "[[ 6.  5.]\n",
      " [ 6. 14.]]\n"
     ]
    }
   ],
   "source": [
    "#elementwise addition\n",
    "print(x+y)\n",
    "print(np.add(x,y))"
   ]
  },
  {
   "cell_type": "code",
   "execution_count": 34,
   "id": "da2b74ec",
   "metadata": {},
   "outputs": [
    {
     "name": "stdout",
     "output_type": "stream",
     "text": [
      "[[-4. -1.]\n",
      " [ 2. -4.]]\n",
      "[[-4. -1.]\n",
      " [ 2. -4.]]\n"
     ]
    }
   ],
   "source": [
    "#elementwise subtraction\n",
    "print(x-y)\n",
    "print(np.subtract(x,y))"
   ]
  },
  {
   "cell_type": "code",
   "execution_count": 35,
   "id": "855d6c23",
   "metadata": {},
   "outputs": [
    {
     "name": "stdout",
     "output_type": "stream",
     "text": [
      "[[ 5.  6.]\n",
      " [ 8. 45.]]\n",
      "[[ 5.  6.]\n",
      " [ 8. 45.]]\n"
     ]
    }
   ],
   "source": [
    "#elementwise multiplication\n",
    "print(x*y)\n",
    "print(np.multiply(x,y))"
   ]
  },
  {
   "cell_type": "code",
   "execution_count": 36,
   "id": "0372a1b2",
   "metadata": {},
   "outputs": [
    {
     "name": "stdout",
     "output_type": "stream",
     "text": [
      "[[0.2        0.66666667]\n",
      " [2.         0.55555556]]\n",
      "[[0.2        0.66666667]\n",
      " [2.         0.55555556]]\n"
     ]
    }
   ],
   "source": [
    "#elementwise division\n",
    "print(x/y)\n",
    "print(np.divide(x,y))"
   ]
  },
  {
   "cell_type": "code",
   "execution_count": 37,
   "id": "d83f89f8",
   "metadata": {},
   "outputs": [
    {
     "name": "stdout",
     "output_type": "stream",
     "text": [
      "[[ 9. 21.]\n",
      " [30. 57.]]\n"
     ]
    }
   ],
   "source": [
    "#dot product\n",
    "print(x.dot(y))"
   ]
  },
  {
   "cell_type": "markdown",
   "id": "2579dc33",
   "metadata": {},
   "source": [
    "### Sum () function"
   ]
  },
  {
   "cell_type": "code",
   "execution_count": 38,
   "id": "44ef18f1",
   "metadata": {},
   "outputs": [
    {
     "name": "stdout",
     "output_type": "stream",
     "text": [
      "12.0\n",
      "[5. 7.]\n",
      "[3. 9.]\n"
     ]
    }
   ],
   "source": [
    "print(np.sum(x))         #total sum\n",
    "print(np.sum(x, axis=0)) # sum of each column\n",
    "print(np.sum(x, axis=1)) #sum of each row"
   ]
  }
 ],
 "metadata": {
  "kernelspec": {
   "display_name": "Python 3 (ipykernel)",
   "language": "python",
   "name": "python3"
  },
  "language_info": {
   "codemirror_mode": {
    "name": "ipython",
    "version": 3
   },
   "file_extension": ".py",
   "mimetype": "text/x-python",
   "name": "python",
   "nbconvert_exporter": "python",
   "pygments_lexer": "ipython3",
   "version": "3.11.0"
  }
 },
 "nbformat": 4,
 "nbformat_minor": 5
}
